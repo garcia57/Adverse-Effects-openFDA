{
 "cells": [
  {
   "cell_type": "code",
   "execution_count": 1,
   "metadata": {},
   "outputs": [],
   "source": [
    "import requests\n",
    "import pandas as pd\n",
    "import numpy as np\n",
    "\n",
    "# Base URL for the openFDA Drug Event API\n",
    "base_url = \"https://api.fda.gov/drug/event.json\"\n",
    "params = {\n",
    "    \"limit\": 100,  # Maximum number of records per request\n",
    "    \"skip\": 0      # Starting point for pagination\n",
    "}\n",
    "\n",
    "# List to store extracted records\n",
    "records = []\n",
    "required_observations = 800  # Minimum requirement for your project\n",
    "collected_records = 0\n",
    "\n",
    "# Define function to extract specific fields from each record\n",
    "def extract_fields(record):\n",
    "    # Extract general report information\n",
    "    report = {\n",
    "        \"safetyreportid\": record.get(\"safetyreportid\", \"\"),\n",
    "        \"serious\": record.get(\"serious\", \"\"),\n",
    "        \"seriousnessdeath\": record.get(\"seriousnessdeath\", \"\"),\n",
    "        \"receivedate\": record.get(\"receivedate\", \"\"),\n",
    "        \"reportercountry\": record.get(\"primarysource\", {}).get(\"reportercountry\", \"\"),\n",
    "        \"reporterqualification\": record.get(\"primarysource\", {}).get(\"qualification\", \"\")\n",
    "    }\n",
    "    \n",
    "    # Extract patient demographics\n",
    "    patient = record.get(\"patient\", {})\n",
    "    report[\"patient_age\"] = patient.get(\"patientonsetage\", None)\n",
    "    report[\"patient_age_unit\"] = patient.get(\"patientonsetageunit\", \"\")\n",
    "    report[\"patient_sex\"] = patient.get(\"patientsex\", \"\")\n",
    "    \n",
    "    # Extract reaction information\n",
    "    reactions = patient.get(\"reaction\", [])\n",
    "    report[\"reaction_meddra\"] = reactions[0].get(\"reactionmeddrapt\", \"\") if reactions else \"\"\n",
    "    \n",
    "    # Extract drug information\n",
    "    drugs = patient.get(\"drug\", [])\n",
    "    report[\"drug_name\"] = drugs[0].get(\"medicinalproduct\", \"\") if drugs else \"\"\n",
    "    report[\"drug_characterization\"] = drugs[0].get(\"drugcharacterization\", \"\") if drugs else \"\"\n",
    "    report[\"drug_admin_route\"] = drugs[0].get(\"drugadministrationroute\", \"\") if drugs else \"\"\n",
    "    report[\"drug_indication\"] = drugs[0].get(\"drugindication\", \"\") if drugs else \"\"\n",
    "    \n",
    "    return report\n",
    "\n",
    "# Loop to gather enough records\n",
    "while collected_records < required_observations:\n",
    "    # Make the API request\n",
    "    response = requests.get(base_url, params=params)\n",
    "    data = response.json()\n",
    "    \n",
    "    # Check if the response contains data\n",
    "    if \"results\" in data:\n",
    "        for record in data[\"results\"]:\n",
    "            # Extract specific fields and add to records list\n",
    "            extracted_record = extract_fields(record)\n",
    "            records.append(extracted_record)\n",
    "            collected_records += 1\n",
    "            \n",
    "            # Stop if we've collected enough records\n",
    "            if collected_records >= required_observations:\n",
    "                break\n",
    "        \n",
    "        # Update pagination for next batch\n",
    "        params[\"skip\"] += params[\"limit\"]\n",
    "    else:\n",
    "        print(\"No more data available.\")\n",
    "        break\n",
    "\n",
    "# Convert records to a DataFrame\n",
    "df = pd.DataFrame(records)\n",
    "\n",
    "\n",
    "\n",
    "# Optional: Clean up and standardize categorical values\n",
    "#df[\"patient_sex\"] = df[\"patient_sex\"].replace({1: \"Male\", 2: \"Female\"})\n",
    "#df[\"serious\"] = df[\"serious\"].replace({1: \"Serious\", 0: \"Non-Serious\"})\n",
    "#df[\"seriousnessdeath\"] = df[\"seriousnessdeath\"].replace({1: \"Fatal\", 0: \"Non-Fatal\"})\n"
   ]
  },
  {
   "cell_type": "code",
   "execution_count": 2,
   "metadata": {},
   "outputs": [
    {
     "data": {
      "text/plain": [
       "seriousnessdeath\n",
       "0    800\n",
       "Name: count, dtype: int64"
      ]
     },
     "execution_count": 2,
     "metadata": {},
     "output_type": "execute_result"
    }
   ],
   "source": [
    "# The 'seriousnessdeath' column seems to be either 1 or NULL, so we should convert the column into a binary indicator!!!\n",
    "\n",
    "# Convert the `seriousnessdeath` column to a binary indicator\n",
    "# 1 indicates fatal (existing 1 values), and 0 indicates non-fatal (fill empty values with 0)\n",
    "\n",
    "df['seriousnessdeath'] = df['seriousnessdeath'].apply(lambda x: 1 if x == 1 else 0)\n",
    "\n",
    "# Display the updated column values to confirm changes\n",
    "df['seriousnessdeath'].value_counts()\n"
   ]
  },
  {
   "cell_type": "code",
   "execution_count": 3,
   "metadata": {},
   "outputs": [],
   "source": [
    "\n",
    "\n",
    "# Step 2: Convert non-numeric values in 'patient_age_unit' to NaN, but leave numeric values untouched\n",
    "df['patient_age_unit'] = pd.to_numeric(df['patient_age_unit'], errors='coerce')\n",
    "\n",
    "patient_age_unit_mapping = {\n",
    "    800: \"Days\",\n",
    "    801: \"Years\",\n",
    "    802: \"Months\",\n",
    "    803: \"Weeks\",\n",
    "    804: \"Hours\",\n",
    "    np.nan: \"NULL\"\n",
    "}\n",
    "\n",
    "# Step 3: Map numeric codes to their corresponding labels\n",
    "df['patient_age_unit'] = df['patient_age_unit'].map(patient_age_unit_mapping)\n"
   ]
  },
  {
   "cell_type": "code",
   "execution_count": 4,
   "metadata": {},
   "outputs": [
    {
     "name": "stderr",
     "output_type": "stream",
     "text": [
      "C:\\Users\\andym\\AppData\\Local\\Temp\\ipykernel_20108\\3033652657.py:3: FutureWarning: A value is trying to be set on a copy of a DataFrame or Series through chained assignment using an inplace method.\n",
      "The behavior will change in pandas 3.0. This inplace method will never work because the intermediate object on which we are setting values always behaves as a copy.\n",
      "\n",
      "For example, when doing 'df[col].method(value, inplace=True)', try using 'df.method({col: value}, inplace=True)' or df[col] = df[col].method(value) instead, to perform the operation inplace on the original object.\n",
      "\n",
      "\n",
      "  df['patient_age'].replace(\"\", np.nan, inplace=True)\n"
     ]
    }
   ],
   "source": [
    "# Replace blank entries in 'patient_age' with NaN\n",
    "#new_frame['patient_age'].replace(\"\", np.nan, inplace=True)\n",
    "df['patient_age'].replace(\"\", np.nan, inplace=True)\n",
    "\n",
    "\n",
    "# Drop rows where 'patient_age' is NaN\n",
    "#new_frame.dropna(subset=['patient_age'], inplace=True)\n",
    "df.dropna(subset=['patient_age'], inplace=True)\n"
   ]
  },
  {
   "cell_type": "code",
   "execution_count": 5,
   "metadata": {},
   "outputs": [
    {
     "data": {
      "text/plain": [
       "(drug_admin_route\n",
       " 1    139\n",
       " 2     14\n",
       " 3      3\n",
       " Name: count, dtype: int64,\n",
       " ['5-FLUOROURACIL',\n",
       "  'ABATACEPT SUBQ INJECTION 125MG/ML',\n",
       "  'ABRAXANE',\n",
       "  'ACETAMINOPHEN.',\n",
       "  'ADCIRCA',\n",
       "  'ADIRO 100',\n",
       "  'AFINITOR',\n",
       "  'ALLOPURINOL.',\n",
       "  'AMBRISENTAN',\n",
       "  'AMIODARONE HCL'])"
      ]
     },
     "execution_count": 5,
     "metadata": {},
     "output_type": "execute_result"
    }
   ],
   "source": [
    "### Some of the missing datavalues are how the drugs are administered. To fill in those gaps, we could search for missing administation methods for drugs that \n",
    "#### exclusively have only 1 method of intake. That way, if X drug is only taken orally, then we can fill in \"orally\" whenever X drug is taken.\n",
    "#### Note: The drug needs to have a large set of pervious variables that it was taken only 1 way. If there is even 1 other mentioned way to take it, then those\n",
    "#### drugs are not filled. \n",
    "\n",
    "# Group by `drug_name` and check the unique count of `drug_admin_route` for each drug\n",
    "admin_route_per_drug = df.groupby('drug_name')['drug_admin_route'].nunique()\n",
    "\n",
    "# Filter drugs that are associated with only one administration route\n",
    "single_route_drugs = admin_route_per_drug[admin_route_per_drug == 1].index.tolist()\n",
    "\n",
    "# Check the overall distribution of drugs with single vs multiple routes\n",
    "admin_route_per_drug.value_counts(), single_route_drugs[:10]  # Display sample of single-route drugs for review\n"
   ]
  },
  {
   "cell_type": "code",
   "execution_count": 6,
   "metadata": {},
   "outputs": [
    {
     "data": {
      "text/plain": [
       "drug_admin_route\n",
       "048    291\n",
       "       123\n",
       "042     31\n",
       "058     23\n",
       "065     17\n",
       "015      9\n",
       "055      7\n",
       "030      6\n",
       "033      6\n",
       "059      4\n",
       "041      2\n",
       "050      1\n",
       "040      1\n",
       "062      1\n",
       "067      1\n",
       "Name: count, dtype: int64"
      ]
     },
     "execution_count": 6,
     "metadata": {},
     "output_type": "execute_result"
    }
   ],
   "source": [
    "# Create a dictionary mapping drugs with a single administration route to their route value\n",
    "single_route_mapping = df[df['drug_name'].isin(single_route_drugs)].dropna(subset=['drug_admin_route']) \\\n",
    "                       .groupby('drug_name')['drug_admin_route'].first().to_dict()\n",
    "\n",
    "# Fill missing `drug_admin_route` based on the mapping, leaving multiple-route drugs as \"Unknown\" where missing\n",
    "df['drug_admin_route'] = df.apply(\n",
    "    lambda row: single_route_mapping.get(row['drug_name'], \"Unknown\") if pd.isna(row['drug_admin_route']) else row['drug_admin_route'],\n",
    "    axis=1\n",
    ")\n",
    "\n",
    "# Verify if the missing values have been filled appropriately\n",
    "df['drug_admin_route'].value_counts(dropna=False)\n"
   ]
  },
  {
   "cell_type": "code",
   "execution_count": 7,
   "metadata": {},
   "outputs": [],
   "source": [
    "df.to_csv(\"openFDA_AdverseDrugsSample.csv\", index=False)\n",
    "del df"
   ]
  }
 ],
 "metadata": {
  "kernelspec": {
   "display_name": "Python 3",
   "language": "python",
   "name": "python3"
  },
  "language_info": {
   "codemirror_mode": {
    "name": "ipython",
    "version": 3
   },
   "file_extension": ".py",
   "mimetype": "text/x-python",
   "name": "python",
   "nbconvert_exporter": "python",
   "pygments_lexer": "ipython3",
   "version": "3.12.5"
  }
 },
 "nbformat": 4,
 "nbformat_minor": 2
}
